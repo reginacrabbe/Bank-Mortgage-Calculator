{
 "cells": [
  {
   "cell_type": "code",
   "execution_count": 1,
   "id": "28d927e1",
   "metadata": {},
   "outputs": [
    {
     "name": "stdout",
     "output_type": "stream",
     "text": [
      "Enter Mortgage Loan Principal: 100000\n",
      "Enter Percent Annual Interest: 7.5\n",
      "Enter Years to pay off Mortgage: 30\n"
     ]
    }
   ],
   "source": [
    "# Mortgage Calculator Program\n",
    "# Input principal, interest and years(period)\n",
    "principal = float(input(\"Enter Mortgage Loan Principal: \"))\n",
    "interest = float(input(\"Enter Percent Annual Interest: \"))\n",
    "years = float(input(\"Enter Years to pay off Mortgage: \"))"
   ]
  },
  {
   "cell_type": "code",
   "execution_count": 2,
   "id": "32b10b6c",
   "metadata": {},
   "outputs": [
    {
     "name": "stdout",
     "output_type": "stream",
     "text": [
      "Principal = $100000.00\n",
      "Interest = 7.50%\n",
      "Years = 30.00\n"
     ]
    }
   ],
   "source": [
    "#Display Principal, Interest and Years\n",
    "print(f\"Principal = ${principal:.2f}\")\n",
    "print(f\"Interest = {interest:.2f}%\")\n",
    "print(f\"Years = {years:.2f}\")"
   ]
  },
  {
   "cell_type": "code",
   "execution_count": 3,
   "id": "049c93ea",
   "metadata": {},
   "outputs": [],
   "source": [
    "# Convert annual interest rate to monthly interest rate\n",
    "monthly_interest_rate = (interest/100)/12\n",
    "# Convert years to months\n",
    "months = years*12"
   ]
  },
  {
   "cell_type": "code",
   "execution_count": 7,
   "id": "6b0c8454",
   "metadata": {},
   "outputs": [
    {
     "name": "stdout",
     "output_type": "stream",
     "text": [
      "Monthly interest rate = 0.01%\n",
      "Total number of months to pay off loan = 360.00 months\n"
     ]
    }
   ],
   "source": [
    "# Display monthly interest rate and Total number of months\n",
    "print(f\"Monthly interest rate = {monthly_interest_rate:.2f}%\")\n",
    "print(f\"Total number of months to pay off loan = {months:.2f} months\")"
   ]
  },
  {
   "cell_type": "code",
   "execution_count": 14,
   "id": "32a31a13",
   "metadata": {},
   "outputs": [],
   "source": [
    "# Calculate Monthly Payment\n",
    "Monthly_payment = principal*(monthly_interest_rate *(1 + monthly_interest_rate)**months)/((1 + monthly_interest_rate)**months-1)\n",
    "# Calculate Total Amount paid for the 30 years\n",
    "Total_amount_paid = Monthly_payment * months"
   ]
  },
  {
   "cell_type": "code",
   "execution_count": 15,
   "id": "46e99a6d",
   "metadata": {},
   "outputs": [
    {
     "name": "stdout",
     "output_type": "stream",
     "text": [
      "For a 30.0 year mortgage loan of $ 100000.0 at an annual interest rate of 7.5 %, you pay\n",
      "\n",
      "$699.21 monthly\n",
      "\n",
      "----------------------------------------\n",
      "\n",
      "Total amount paid will be $251717.22\n",
      "\n",
      "----------------------------------------\n"
     ]
    }
   ],
   "source": [
    "# Display Monthly Payment and Total Amount Paid\n",
    "print(\"For a\", years, \"year mortgage loan of $\", principal, \"at an annual interest rate of\", interest, \"%, you pay\")\n",
    "print(\"\\n$%.2f monthly\" % Monthly_payment)\n",
    "print(\"\\n----------------------------------------\")\n",
    "print(\"\\nTotal amount paid will be $%.2f\" % Total_amount_paid)\n",
    "print(\"\\n----------------------------------------\")"
   ]
  },
  {
   "cell_type": "code",
   "execution_count": null,
   "id": "15c970b5",
   "metadata": {},
   "outputs": [],
   "source": []
  }
 ],
 "metadata": {
  "kernelspec": {
   "display_name": "Python 3 (ipykernel)",
   "language": "python",
   "name": "python3"
  },
  "language_info": {
   "codemirror_mode": {
    "name": "ipython",
    "version": 3
   },
   "file_extension": ".py",
   "mimetype": "text/x-python",
   "name": "python",
   "nbconvert_exporter": "python",
   "pygments_lexer": "ipython3",
   "version": "3.11.3"
  }
 },
 "nbformat": 4,
 "nbformat_minor": 5
}
